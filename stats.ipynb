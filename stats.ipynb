{
 "cells": [
  {
   "cell_type": "markdown",
   "metadata": {},
   "source": [
    "**Practica 1 de laboratorio**"
   ]
  },
  {
   "cell_type": "markdown",
   "metadata": {},
   "source": [
    "*Formula del área de la elipse*\n",
    "$$A(a, b) = \\frac{a_0}{2} \\frac{b_0}{2} \\pi $$"
   ]
  },
  {
   "cell_type": "markdown",
   "metadata": {},
   "source": [
    "*Formula de la propagación de errores*"
   ]
  },
  {
   "cell_type": "markdown",
   "metadata": {},
   "source": [
    "$$\\sigma_A = \\bigg[ \\bigg( \\frac{dA}{da} \\Bigg|_{a_0, b_0} \\sigma_a \\bigg)^2 + \\bigg( \\frac{dA}{db} \\Bigg|_{a_0, b_0} \\sigma_b \\bigg)^2 \\bigg]^{\\frac{1}{2}}\n",
    "$$\n",
    "$$ \\sigma_A = \\bigg[ \\bigg( \\frac{1}{4} b_0 \\pi \\bigg)^2\\sigma_b + \\bigg( \\frac{1}{4} a_0 \\pi \\bigg)^2\\sigma_a \\bigg]^{\\frac{1}{2}}"
   ]
  },
  {
   "cell_type": "markdown",
   "metadata": {},
   "source": []
  }
 ],
 "metadata": {
  "language_info": {
   "name": "python"
  },
  "orig_nbformat": 4
 },
 "nbformat": 4,
 "nbformat_minor": 2
}
